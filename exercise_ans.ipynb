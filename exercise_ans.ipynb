{
 "cells": [
  {
   "cell_type": "markdown",
   "metadata": {},
   "source": [
    "# **Python Exercise**"
   ]
  },
  {
   "cell_type": "markdown",
   "metadata": {},
   "source": [
    "1. Write a function to convert celcius to fahrenheit"
   ]
  },
  {
   "cell_type": "code",
   "execution_count": 5,
   "metadata": {},
   "outputs": [
    {
     "name": "stdin",
     "output_type": "stream",
     "text": [
      "Input temp in °C: 0\n"
     ]
    },
    {
     "data": {
      "text/plain": [
       "'32F'"
      ]
     },
     "execution_count": 5,
     "metadata": {},
     "output_type": "execute_result"
    }
   ],
   "source": [
    "temp = input(\"Input temp in °C:\")\n",
    "\n",
    "def temp_convert(temp):\n",
    "    \n",
    "    \"\"\"Convert temperature in celcius (°C) to fahrenheit (F).\"\"\"\n",
    "    \n",
    "    f = (int(temp) * 9/5) + 32\n",
    "    return \"%iF\" %f\n",
    "\n",
    "temp_convert(temp)"
   ]
  },
  {
   "cell_type": "markdown",
   "metadata": {},
   "source": [
    "2. Write a function that given weight and height returns the BMI of the person."
   ]
  },
  {
   "cell_type": "code",
   "execution_count": 7,
   "metadata": {},
   "outputs": [
    {
     "name": "stdin",
     "output_type": "stream",
     "text": [
      "Your height in cms:  180\n",
      "Your weight in kgs:  75\n"
     ]
    },
    {
     "data": {
      "text/plain": [
       "'Your BMI is 23.15'"
      ]
     },
     "execution_count": 7,
     "metadata": {},
     "output_type": "execute_result"
    }
   ],
   "source": [
    "height = input(\"Your height in cms: \")\n",
    "weight = input(\"Your weight in kgs: \")\n",
    "\n",
    "def BMI(height,weight):\n",
    "    \n",
    "    \"\"\"Calculates your BMI using height (cms) and weight (kgs)\"\"\"\n",
    "    \n",
    "    h  = int(height)/100\n",
    "    bmi = int(weight)/(h**2)\n",
    "    return \"Your BMI is %.2f\" %bmi\n",
    "\n",
    "BMI(height,weight)"
   ]
  },
  {
   "cell_type": "markdown",
   "metadata": {},
   "source": [
    "3. Create a program that asks the user to enter their name and their age. Print out a message addressed to them that tells them the year that they will turn 100 years old."
   ]
  },
  {
   "cell_type": "code",
   "execution_count": 2,
   "metadata": {},
   "outputs": [
    {
     "name": "stdin",
     "output_type": "stream",
     "text": [
      "What's your name:  Festus\n",
      "Your age:  65\n"
     ]
    },
    {
     "data": {
      "text/plain": [
       "'Dear Festus you will be 100 years in the year 2054'"
      ]
     },
     "execution_count": 2,
     "metadata": {},
     "output_type": "execute_result"
    }
   ],
   "source": [
    "name = input(\"What's your name: \")\n",
    "age = input(\"Your age: \")\n",
    "\n",
    "\n",
    "\n",
    "def year(name,age):\n",
    "    \"\"\"The finction is used to tell the user the year which he will be 100 years old.\n",
    "    The input is the name and current age\n",
    "    \"\"\"\n",
    "    from datetime import datetime #A module for date and time\n",
    "    x = int(100) - int(age)\n",
    "    y = datetime.now().year + x #importing the current year \n",
    "    return \"Dear %s you will be 100 years in the year %s\" %(name,y)\n",
    "\n",
    "year(name,age)"
   ]
  },
  {
   "cell_type": "markdown",
   "metadata": {},
   "source": [
    "4. Write a function that returns the maximum of two numbers."
   ]
  },
  {
   "cell_type": "code",
   "execution_count": 45,
   "metadata": {},
   "outputs": [
    {
     "name": "stdout",
     "output_type": "stream",
     "text": [
      "4 and 4 are equal\n"
     ]
    }
   ],
   "source": [
    "def max(x,y):\n",
    "    \n",
    "    \"\"\"Function is used to find the largest number between two numbers.\"\"\"\n",
    "    \n",
    "    if x > y:\n",
    "        print(x)\n",
    "    else:\n",
    "        if x < y:\n",
    "            print(y)\n",
    "        else:\n",
    "            x = y\n",
    "            print(\"%i and %i are equal\" %(x,y)) \n",
    "\n",
    "max(4,4)"
   ]
  },
  {
   "cell_type": "markdown",
   "metadata": {},
   "source": [
    "5. Write a function called fizz_buzz that takes a number.\n",
    "   - If the number is divisible by 3, it should return “Fizz”.\n",
    "   - If it is divisible by 5, it should return “Buzz”.\n",
    "   - If it is divisible by both 3 and 5, it should return “FizzBuzz”.\n",
    "   - Otherwise, it should return the same number."
   ]
  },
  {
   "cell_type": "code",
   "execution_count": 21,
   "metadata": {},
   "outputs": [
    {
     "data": {
      "text/plain": [
       "16"
      ]
     },
     "execution_count": 21,
     "metadata": {},
     "output_type": "execute_result"
    }
   ],
   "source": [
    "\n",
    "\n",
    "def fizz_buzz(num):\n",
    "    \"\"\"The function checks if a number is a multiple of 3 or 5 or both.\n",
    "    If its a multiple of 3 it prints Fizz, if its a multiple of 5 it prints Buzz\n",
    "    and if a multiple of both it prints FizzBuzz.\"\"\"\n",
    "    num = int(num)\n",
    "    if num%3 == 0:\n",
    "        a = \"Fizz\"\n",
    "    if num%5 == 0:\n",
    "        a = \"Buzz\"\n",
    "    if num%3 == 0 and num%5 == 0:\n",
    "        a = \"FizzBuzz\"\n",
    "    if num%3 != 0 and num%5 != 0:\n",
    "        a = num\n",
    "    return a\n",
    "    \n",
    "fizz_buzz(16)"
   ]
  },
  {
   "cell_type": "markdown",
   "metadata": {},
   "source": [
    "6. Write a function for checking the speed of drivers. This function should have one parameter: speed.\n",
    "     - If speed is less than 70, it should print “Ok”.\n",
    "     - Otherwise, for every 5km above the speed limit (70), it should give the driver one demerit point and print the total number of demerit points. For example, if the speed is 80, it should print: “Points: 2”.\n",
    "     - If the driver gets more than 12 points, the function should print: “License suspended”"
   ]
  },
  {
   "cell_type": "code",
   "execution_count": 39,
   "metadata": {},
   "outputs": [
    {
     "name": "stdin",
     "output_type": "stream",
     "text": [
      "Current speed in Km/h:  76\n",
      "How many speeding points do you have on your license:  2\n"
     ]
    },
    {
     "data": {
      "text/plain": [
       "'You have been over speeding. Your current speed is 76 Km/h and you have 3 demerit points.'"
      ]
     },
     "execution_count": 39,
     "metadata": {},
     "output_type": "execute_result"
    }
   ],
   "source": [
    "speed = input(\"Current speed in Km/h: \")\n",
    "dpoint = input(\"How many speeding points do you have on your license: \")\n",
    "\n",
    "def drive_speed(speed,dpoint = 0):\n",
    "    \n",
    "    \"\"\"The function is used to check if the driver is overspeeding. \n",
    "    If the driver is overspeeding 1 demerit point is added to the licence for \n",
    "    every 5km/h above the speed limit of 70km/h.\n",
    "    The input is the current speed and the current number of points on the licence,\n",
    "    if points not given it takes a default of 0 points\"\"\"\n",
    "    \n",
    "    speed = int(speed)\n",
    "    limit = 70\n",
    "    dpoint = int(dpoint)\n",
    "    if speed <= limit:\n",
    "        st = \"Your speed is okay.\"\n",
    "    if speed > limit:\n",
    "        over = speed - limit\n",
    "        p = over//5\n",
    "        dpoint = dpoint+p\n",
    "        st = \"You have been over speeding.\"\n",
    "    if dpoint > 12:\n",
    "        st =\"You have been over speeding and your licence has been suspended.\"\n",
    "    return \"%s Your current speed is %i Km/h and you have %i demerit points.\" %(st,speed,dpoint)\n",
    "\n",
    "\n",
    "drive_speed(speed,dpoint)"
   ]
  },
  {
   "cell_type": "markdown",
   "metadata": {},
   "source": [
    "7. Write a function called `showNumbers` that takes a parameter called limit. It should print all the numbers between 0 and limit with a label to identify the even and odd numbers. For example, if the limit is 3, it should print:\n",
    "    - 0 EVEN\n",
    "    - 1 ODD\n",
    "    - 2 EVEN\n",
    "    - 3 ODD"
   ]
  },
  {
   "cell_type": "code",
   "execution_count": 1,
   "metadata": {},
   "outputs": [
    {
     "name": "stdout",
     "output_type": "stream",
     "text": [
      "0 EVEN\n",
      "1 ODD\n",
      "2 EVEN\n",
      "3 ODD\n",
      "4 EVEN\n",
      "5 ODD\n"
     ]
    }
   ],
   "source": [
    "\n",
    "\n",
    "def showNumbers(limit):\n",
    "    \n",
    "    \"\"\"Function used to identify if a number is odd or even within a given range.\"\"\"\n",
    "    \n",
    "    limit = int(limit)\n",
    "    for i in range (limit+1):\n",
    "        if i%2==0:\n",
    "            print(\"%i EVEN\" %i)\n",
    "        else:\n",
    "            print(\"%i ODD\" %i)\n",
    "showNumbers(5)"
   ]
  },
  {
   "cell_type": "markdown",
   "metadata": {},
   "source": [
    "8. Write a function that returns the sum of multiples of 3 and 5 between 0 and limit (parameter). For example, if limit is 20, it should return the sum of 3, 5, 6, 9, 10, 12, 15, 18, 20."
   ]
  },
  {
   "cell_type": "code",
   "execution_count": 42,
   "metadata": {},
   "outputs": [
    {
     "data": {
      "text/plain": [
       "408"
      ]
     },
     "execution_count": 42,
     "metadata": {},
     "output_type": "execute_result"
    }
   ],
   "source": [
    "\n",
    "def multi(num):\n",
    "    \n",
    "    \"\"\"The function returns the sum of multiples of 3 and 5 between 0 \n",
    "    and limit provided by the user.\"\"\"\n",
    "    \n",
    "    summ = 0\n",
    "    num = int(num)\n",
    "    for n in range(num+1):\n",
    "        if n%3 == 0 or n%5 ==0:\n",
    "            #print(n)\n",
    "            summ += n\n",
    "    return summ\n",
    "            \n",
    "            \n",
    "multi(40)"
   ]
  },
  {
   "cell_type": "markdown",
   "metadata": {},
   "source": [
    "9. Write a function called show_stars(rows). If rows is 5, it should print the following:\n",
    "``` \n",
    "        *\n",
    "        **\n",
    "        ***\n",
    "        ****\n",
    "        *****\n",
    "```\n"
   ]
  },
  {
   "cell_type": "code",
   "execution_count": 17,
   "metadata": {},
   "outputs": [
    {
     "name": "stdout",
     "output_type": "stream",
     "text": [
      "*\n",
      "**\n",
      "***\n",
      "****\n",
      "*****\n"
     ]
    }
   ],
   "source": [
    "def show_stars(rows):\n",
    "    \n",
    "    \"\"\"The function prints number of stars equal to the number of row,\n",
    "    i.e for row 1 it will print one star, for row 2 two stars and so on.\n",
    "    The user has to input the number of rows\"\"\"\n",
    "    \n",
    "    rows =int(rows)\n",
    "    star = '*'\n",
    "    for i in range(rows):\n",
    "        print(star)\n",
    "        star = star+'*'\n",
    "    return\n",
    "    \n",
    "    \n",
    "show_stars(5)"
   ]
  },
  {
   "cell_type": "markdown",
   "metadata": {},
   "source": [
    "10. Write a function that prints all the prime numbers between 0 and limit where limit is a parameter."
   ]
  },
  {
   "cell_type": "code",
   "execution_count": 43,
   "metadata": {},
   "outputs": [
    {
     "data": {
      "text/plain": [
       "'The prime numbers between 0 and 131 are [2, 3, 5, 7, 11, 13, 17, 19, 23, 29, 31, 37, 41, 43, 47, 53, 59, 61, 67, 71, 73, 79, 83, 89, 97, 101, 103, 107, 109, 113, 121, 127, 131]'"
      ]
     },
     "execution_count": 43,
     "metadata": {},
     "output_type": "execute_result"
    }
   ],
   "source": [
    "\n",
    "\n",
    "def prime(num):\n",
    "    \n",
    "    \"\"\"The function is used to give all the prime numbers withinn a range of 0 and\n",
    "    the input provided by the user.\"\"\"\n",
    "    \n",
    "    num=int(num)\n",
    "    p = []\n",
    "    divisor = (2,3,5,7)\n",
    "    for i in range(num+1):\n",
    "        #Checking if number meets conditions of a prime number\n",
    "        if (i in divisor) or i>1 and i%2!=0 and i%3!=0 and i%5!=0 and i%7!=0:\n",
    "            p.append(i)\n",
    "    \n",
    "    p = \"\".join(str(p))\n",
    "    return \"The prime numbers between 0 and %i are %s\" %(num,p)\n",
    "            \n",
    "\n",
    "            \n",
    "                \n",
    "prime(131)"
   ]
  }
 ],
 "metadata": {
  "kernelspec": {
   "display_name": "Python 3",
   "language": "python",
   "name": "python3"
  },
  "language_info": {
   "codemirror_mode": {
    "name": "ipython",
    "version": 3
   },
   "file_extension": ".py",
   "mimetype": "text/x-python",
   "name": "python",
   "nbconvert_exporter": "python",
   "pygments_lexer": "ipython3",
   "version": "3.7.2"
  }
 },
 "nbformat": 4,
 "nbformat_minor": 2
}
