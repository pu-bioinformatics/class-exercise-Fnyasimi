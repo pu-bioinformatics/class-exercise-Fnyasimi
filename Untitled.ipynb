{
 "cells": [
  {
   "cell_type": "markdown",
   "metadata": {},
   "source": [
    "# **Python Exercise**"
   ]
  },
  {
   "cell_type": "markdown",
   "metadata": {},
   "source": [
    "1. Write a function to convert celcius to fahrenheit"
   ]
  },
  {
   "cell_type": "code",
   "execution_count": 5,
   "metadata": {},
   "outputs": [
    {
     "name": "stdin",
     "output_type": "stream",
     "text": [
      "Input temp in °C: 0\n"
     ]
    },
    {
     "data": {
      "text/plain": [
       "'32F'"
      ]
     },
     "execution_count": 5,
     "metadata": {},
     "output_type": "execute_result"
    }
   ],
   "source": [
    "temp = input(\"Input temp in °C:\")\n",
    "def temp_convert(temp):\n",
    "    f = (int(temp) * 9/5) + 32\n",
    "    return \"%iF\" %f\n",
    "\n",
    "temp_convert(temp)"
   ]
  },
  {
   "cell_type": "markdown",
   "metadata": {},
   "source": [
    "2. Write a function that given weight and height returns the BMI of the person."
   ]
  },
  {
   "cell_type": "code",
   "execution_count": 7,
   "metadata": {},
   "outputs": [
    {
     "name": "stdin",
     "output_type": "stream",
     "text": [
      "Your height in cms:  180\n",
      "Your weight in kgs:  75\n"
     ]
    },
    {
     "data": {
      "text/plain": [
       "'Your BMI is 23.15'"
      ]
     },
     "execution_count": 7,
     "metadata": {},
     "output_type": "execute_result"
    }
   ],
   "source": [
    "height = input(\"Your height in cms: \")\n",
    "weight = input(\"Your weight in kgs: \")\n",
    "\n",
    "def BMI(height,weight):\n",
    "    \"\"\"Calculates your BMI using height and weight\"\"\"\n",
    "    h  = int(height)/100\n",
    "    bmi = int(weight)/(h**2)\n",
    "    return \"Your BMI is %.2f\" %bmi\n",
    "\n",
    "BMI(height,weight)"
   ]
  },
  {
   "cell_type": "markdown",
   "metadata": {},
   "source": [
    "3. Create a program that asks the user to enter their name and their age. Print out a message addressed to them that tells them the year that they will turn 100 years old."
   ]
  },
  {
   "cell_type": "code",
   "execution_count": 11,
   "metadata": {},
   "outputs": [
    {
     "name": "stdin",
     "output_type": "stream",
     "text": [
      "What's your name:  Fess\n",
      "Your age:  22\n"
     ]
    },
    {
     "data": {
      "text/plain": [
       "'Dear Fess you will be 100 years in the year 2097'"
      ]
     },
     "execution_count": 11,
     "metadata": {},
     "output_type": "execute_result"
    }
   ],
   "source": [
    "name = input(\"What's your name: \")\n",
    "age = input(\"Your age: \")\n",
    "from datetime import datetime\n",
    "\n",
    "def year(name,age):\n",
    "    x = int(100) - int(age)\n",
    "    y = datetime.now().year + x\n",
    "    return \"Dear %s you will be 100 years in the year %s\" %(name,y)\n",
    "\n",
    "year(name,age)"
   ]
  },
  {
   "cell_type": "markdown",
   "metadata": {},
   "source": [
    "4. Write a function that returns the maximum of two numbers."
   ]
  },
  {
   "cell_type": "code",
   "execution_count": 54,
   "metadata": {},
   "outputs": [
    {
     "name": "stdout",
     "output_type": "stream",
     "text": [
      "4\n"
     ]
    }
   ],
   "source": [
    "def max(x,y):\n",
    "    if x > y:\n",
    "        print(x)\n",
    "    else:\n",
    "        if x < y:\n",
    "            print(y)\n",
    "        else:\n",
    "            x = y\n",
    "            print(\"x and y are equal\") \n",
    "\n",
    "max(3,4)"
   ]
  },
  {
   "cell_type": "markdown",
   "metadata": {},
   "source": [
    "5. Write a function called fizz_buzz that takes a number.\n",
    "   - If the number is divisible by 3, it should return “Fizz”.\n",
    "   - If it is divisible by 5, it should return “Buzz”.\n",
    "   - If it is divisible by both 3 and 5, it should return “FizzBuzz”.\n",
    "   - Otherwise, it should return the same number."
   ]
  },
  {
   "cell_type": "code",
   "execution_count": 21,
   "metadata": {},
   "outputs": [
    {
     "data": {
      "text/plain": [
       "16"
      ]
     },
     "execution_count": 21,
     "metadata": {},
     "output_type": "execute_result"
    }
   ],
   "source": [
    "\n",
    "\n",
    "def fizz_buzz(num):\n",
    "    num = int(num)\n",
    "    if num%3 == 0:\n",
    "        a = \"Fizz\"\n",
    "    if num%5 == 0:\n",
    "        a = \"Buzz\"\n",
    "    if num%3 == 0 and num%5 == 0:\n",
    "        a = \"FizzBuzz\"\n",
    "    if num%3 != 0 and num%5 != 0:\n",
    "        a = num\n",
    "    return a\n",
    "    \n",
    "fizz_buzz(16)"
   ]
  },
  {
   "cell_type": "markdown",
   "metadata": {},
   "source": [
    "6. Write a function for checking the speed of drivers. This function should have one parameter: speed.\n",
    "     - If speed is less than 70, it should print “Ok”.\n",
    "     - Otherwise, for every 5km above the speed limit (70), it should give the driver one demerit point and print the total number of demerit points. For example, if the speed is 80, it should print: “Points: 2”.\n",
    "     - If the driver gets more than 12 points, the function should print: “License suspended”"
   ]
  },
  {
   "cell_type": "code",
   "execution_count": 44,
   "metadata": {},
   "outputs": [
    {
     "data": {
      "text/plain": [
       "'You have been over speeding and your licence has been suspended. Your current speed is 145 Km/h and you have 15 demerit points.'"
      ]
     },
     "execution_count": 44,
     "metadata": {},
     "output_type": "execute_result"
    }
   ],
   "source": [
    "\n",
    "\n",
    "def drive_speed(speed):\n",
    "    speed = int(speed)\n",
    "    limit = 70\n",
    "    dpoint = 0\n",
    "    if speed < limit:\n",
    "        st = \"Your speed is okay\"\n",
    "    if speed > limit:\n",
    "        over = speed - limit\n",
    "        p = over//5\n",
    "        dpoint = dpoint+p\n",
    "        st = \"You have been over speeding.\"\n",
    "    if dpoint > 12:\n",
    "        st =\"You have been over speeding and your licence has been suspended.\"\n",
    "    return \"%s Your current speed is %i Km/h and you have %i demerit points.\" %(st,speed,dpoint)\n",
    "\n",
    "\n",
    "drive_speed(145)"
   ]
  },
  {
   "cell_type": "markdown",
   "metadata": {},
   "source": [
    "7. Write a function called `showNumbers` that takes a parameter called limit. It should print all the numbers between 0 and limit with a label to identify the even and odd numbers. For example, if the limit is 3, it should print:\n",
    "    - 0 EVEN\n",
    "    - 1 ODD\n",
    "    - 2 EVEN\n",
    "    - 3 ODD"
   ]
  },
  {
   "cell_type": "code",
   "execution_count": 47,
   "metadata": {},
   "outputs": [
    {
     "name": "stdout",
     "output_type": "stream",
     "text": [
      "0 Even\n",
      "1 Odd\n",
      "2 Even\n",
      "3 Odd\n",
      "4 Even\n",
      "5 Odd\n"
     ]
    }
   ],
   "source": [
    "\n",
    "\n",
    "def showNumbers(limit):\n",
    "    limit = int(limit)\n",
    "    for i in range (limit+1):\n",
    "        if i%2==0:\n",
    "            print(\"%i Even\" %i)\n",
    "        else:\n",
    "            print(\"%i Odd\" %i)\n",
    "showNumbers(5)"
   ]
  },
  {
   "cell_type": "markdown",
   "metadata": {},
   "source": [
    "8. Write a function that returns the sum of multiples of 3 and 5 between 0 and limit (parameter). For example, if limit is 20, it should return the sum of 3, 5, 6, 9, 10, 12, 15, 18, 20."
   ]
  },
  {
   "cell_type": "code",
   "execution_count": 51,
   "metadata": {},
   "outputs": [
    {
     "data": {
      "text/plain": [
       "98"
      ]
     },
     "execution_count": 51,
     "metadata": {},
     "output_type": "execute_result"
    }
   ],
   "source": [
    "\n",
    "def multi(num):\n",
    "    summ = 0\n",
    "    num = int(num)\n",
    "    for n in range(num+1):\n",
    "        if n%3 == 0 or n%5 ==0:\n",
    "            #print(n)\n",
    "            summ += n\n",
    "    return summ\n",
    "            \n",
    "            \n",
    "multi(20)"
   ]
  },
  {
   "cell_type": "markdown",
   "metadata": {},
   "source": [
    "9. Write a function called show_stars(rows). If rows is 5, it should print the following:\n",
    "``` \n",
    "        *\n",
    "        **\n",
    "        ***\n",
    "        ****\n",
    "        *****\n",
    "```\n"
   ]
  },
  {
   "cell_type": "code",
   "execution_count": 66,
   "metadata": {},
   "outputs": [
    {
     "name": "stdout",
     "output_type": "stream",
     "text": [
      "*\n",
      "**\n",
      "***\n",
      "****\n",
      "*****\n",
      "******\n",
      "*******\n",
      "********\n"
     ]
    }
   ],
   "source": [
    "def show_stars(rows):\n",
    "    rows =int(rows)\n",
    "    star = '*'\n",
    "    for i in range(rows+1):\n",
    "        print(star)\n",
    "        star = star+'*'\n",
    "    return\n",
    "    \n",
    "    \n",
    "show_stars(7)"
   ]
  },
  {
   "cell_type": "markdown",
   "metadata": {},
   "source": [
    "10. Write a function that prints all the prime numbers between 0 and limit where limit is a parameter."
   ]
  },
  {
   "cell_type": "code",
   "execution_count": 77,
   "metadata": {},
   "outputs": [
    {
     "data": {
      "text/plain": [
       "'The prime numbers between 0 and 50 are [1, 2, 3, 5, 7, 11, 13, 17, 19, 23, 29, 31, 37, 41, 43, 47]'"
      ]
     },
     "execution_count": 77,
     "metadata": {},
     "output_type": "execute_result"
    }
   ],
   "source": [
    "def prime(num):\n",
    "    num=int(num)\n",
    "    p = []\n",
    "    divisor = (2,3,5,7)\n",
    "    for i in range(num+1):\n",
    "        if (i in divisor) or i%2!=0 and i%3!=0 and i%5!=0 and i%7!=0:\n",
    "            p.append(i)\n",
    "    \n",
    "    p = \"\".join(str(p))\n",
    "    return \"The prime numbers between 0 and %i are %s\" %(num,p)\n",
    "            \n",
    "\n",
    "            \n",
    "            \n",
    "prime(50)"
   ]
  }
 ],
 "metadata": {
  "kernelspec": {
   "display_name": "Python 3",
   "language": "python",
   "name": "python3"
  },
  "language_info": {
   "codemirror_mode": {
    "name": "ipython",
    "version": 3
   },
   "file_extension": ".py",
   "mimetype": "text/x-python",
   "name": "python",
   "nbconvert_exporter": "python",
   "pygments_lexer": "ipython3",
   "version": "3.7.2"
  }
 },
 "nbformat": 4,
 "nbformat_minor": 2
}
